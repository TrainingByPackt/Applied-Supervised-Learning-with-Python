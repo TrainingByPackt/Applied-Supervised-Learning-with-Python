{
 "cells": [
  {
   "cell_type": "code",
   "execution_count": 375,
   "metadata": {},
   "outputs": [],
   "source": [
    "import pandas as pd\n",
    "import numpy as np\n",
    "import json\n",
    "\n",
    "%matplotlib inline\n",
    "import matplotlib.pyplot as plt\n",
    "\n",
    "from sklearn.preprocessing import OneHotEncoder\n",
    "from sklearn.model_selection import RandomizedSearchCV, train_test_split\n",
    "from sklearn.ensemble import GradientBoostingClassifier\n",
    "from sklearn.metrics import (accuracy_score, precision_score, recall_score, confusion_matrix,\n",
    "                             precision_recall_curve)"
   ]
  },
  {
   "cell_type": "code",
   "execution_count": 165,
   "metadata": {
    "scrolled": true
   },
   "outputs": [
    {
     "name": "stdout",
     "output_type": "stream",
     "text": [
      "<class 'pandas.core.frame.DataFrame'>\n",
      "RangeIndex: 1176 entries, 0 to 1175\n",
      "Data columns (total 31 columns):\n",
      "Age                         1176 non-null int64\n",
      "Attrition                   1176 non-null int64\n",
      "BusinessTravel              1176 non-null object\n",
      "DailyRate                   1176 non-null int64\n",
      "Department                  1176 non-null object\n",
      "DistanceFromHome            1176 non-null int64\n",
      "Education                   1176 non-null int64\n",
      "EducationField              1176 non-null object\n",
      "EnvironmentSatisfaction     1176 non-null int64\n",
      "Gender                      1176 non-null int64\n",
      "HourlyRate                  1176 non-null int64\n",
      "JobInvolvement              1176 non-null int64\n",
      "JobLevel                    1176 non-null int64\n",
      "JobRole                     1176 non-null object\n",
      "JobSatisfaction             1176 non-null int64\n",
      "MaritalStatus               1176 non-null object\n",
      "MonthlyIncome               1176 non-null int64\n",
      "MonthlyRate                 1176 non-null int64\n",
      "NumCompaniesWorked          1176 non-null int64\n",
      "OverTime                    1176 non-null int64\n",
      "PercentSalaryHike           1176 non-null int64\n",
      "PerformanceRating           1176 non-null int64\n",
      "RelationshipSatisfaction    1176 non-null int64\n",
      "StockOptionLevel            1176 non-null int64\n",
      "TotalWorkingYears           1176 non-null int64\n",
      "TrainingTimesLastYear       1176 non-null int64\n",
      "WorkLifeBalance             1176 non-null int64\n",
      "YearsAtCompany              1176 non-null int64\n",
      "YearsInCurrentRole          1176 non-null int64\n",
      "YearsSinceLastPromotion     1176 non-null int64\n",
      "YearsWithCurrManager        1176 non-null int64\n",
      "dtypes: int64(26), object(5)\n",
      "memory usage: 284.9+ KB\n"
     ]
    }
   ],
   "source": [
    "data = pd.read_csv('attrition_train.csv')\n",
    "data.info()"
   ]
  },
  {
   "cell_type": "code",
   "execution_count": 421,
   "metadata": {
    "scrolled": true
   },
   "outputs": [
    {
     "data": {
      "text/plain": [
       "{'BusinessTravel': ['Travel_Rarely', 'Non-Travel', 'Travel_Frequently'],\n",
       " 'Department': ['Research & Development', 'Sales', 'Human Resources'],\n",
       " 'MaritalStatus': ['Married', 'Divorced', 'Single'],\n",
       " 'EducationField': ['Other',\n",
       "  'Technical Degree',\n",
       "  'Life Sciences',\n",
       "  'Marketing',\n",
       "  'Medical',\n",
       "  'Human Resources'],\n",
       " 'JobRole': ['Research Director',\n",
       "  'Laboratory Technician',\n",
       "  'Healthcare Representative',\n",
       "  'Sales Executive',\n",
       "  'Research Scientist',\n",
       "  'Manufacturing Director',\n",
       "  'Sales Representative',\n",
       "  'Manager',\n",
       "  'Human Resources']}"
      ]
     },
     "execution_count": 421,
     "metadata": {},
     "output_type": "execute_result"
    }
   ],
   "source": [
    "with open('categorical_variable_values.json', 'r') as f:\n",
    "    cat_values_dict = json.load(f)\n",
    "cat_values_dict"
   ]
  },
  {
   "cell_type": "markdown",
   "metadata": {},
   "source": [
    "## Processing training dataset"
   ]
  },
  {
   "cell_type": "code",
   "execution_count": 424,
   "metadata": {},
   "outputs": [
    {
     "name": "stdout",
     "output_type": "stream",
     "text": [
      "26 24\n"
     ]
    }
   ],
   "source": [
    "num_orig_cols = data.shape[1] - len(cat_values_dict)\n",
    "num_enc_cols = sum([len(cats) for cats in cat_values_dict.values()])\n",
    "print(num_orig_cols, num_enc_cols)"
   ]
  },
  {
   "cell_type": "code",
   "execution_count": 382,
   "metadata": {},
   "outputs": [],
   "source": [
    "X = np.zeros(shape=(data.shape[0], num_orig_cols+num_enc_cols-1))\n",
    "\n",
    "mask = [(each not in cat_values_dict and each != 'Attrition') for each in data.columns]\n",
    "X[:, :num_orig_cols-1] = data.loc[:, data.columns[mask]]"
   ]
  },
  {
   "cell_type": "code",
   "execution_count": 383,
   "metadata": {},
   "outputs": [],
   "source": [
    "cat_cols = list(cat_values_dict.keys())\n",
    "cat_values = [cat_values_dict[col] for col in data[cat_cols].columns]\n",
    "\n",
    "ohe = OneHotEncoder(categories=cat_values, sparse=False, )\n",
    "\n",
    "X[:, num_orig_cols-1:] = ohe.fit_transform(X=data[cat_cols])\n",
    "y = data.Attrition.values"
   ]
  },
  {
   "cell_type": "code",
   "execution_count": 384,
   "metadata": {},
   "outputs": [
    {
     "name": "stdout",
     "output_type": "stream",
     "text": [
      "(1176, 49)\n",
      "(1176,)\n"
     ]
    }
   ],
   "source": [
    "print(X.shape)\n",
    "print(y.shape)"
   ]
  },
  {
   "cell_type": "markdown",
   "metadata": {},
   "source": [
    "## Modelling"
   ]
  },
  {
   "cell_type": "code",
   "execution_count": 212,
   "metadata": {},
   "outputs": [],
   "source": [
    "meta_gbc = GradientBoostingClassifier()\n",
    "\n",
    "param_dist = {\n",
    "    'n_estimators': list(range(10, 210, 10)),\n",
    "    'criterion': ['mae', 'mse'],\n",
    "    'max_features': ['sqrt', 'log2', 0.25, 0.3, 0.5, 0.8, None],\n",
    "    'max_depth': list(range(1, 10)),\n",
    "    'min_samples_leaf': list(range(1, 10))\n",
    "}"
   ]
  },
  {
   "cell_type": "code",
   "execution_count": 264,
   "metadata": {},
   "outputs": [
    {
     "name": "stdout",
     "output_type": "stream",
     "text": [
      "CPU times: user 2.03 s, sys: 546 ms, total: 2.58 s\n",
      "Wall time: 8min 15s\n"
     ]
    },
    {
     "data": {
      "text/plain": [
       "RandomizedSearchCV(cv=5, error_score='raise-deprecating',\n",
       "          estimator=GradientBoostingClassifier(criterion='friedman_mse', init=None,\n",
       "              learning_rate=0.1, loss='deviance', max_depth=3,\n",
       "              max_features=None, max_leaf_nodes=None,\n",
       "              min_impurity_decrease=0.0, min_impurity_split=None,\n",
       "              min_samples_leaf=1, min_sampl...      subsample=1.0, tol=0.0001, validation_fraction=0.1,\n",
       "              verbose=0, warm_start=False),\n",
       "          fit_params=None, iid='warn', n_iter=100, n_jobs=-1,\n",
       "          param_distributions={'n_estimators': [10, 20, 30, 40, 50, 60, 70, 80, 90, 100, 110, 120, 130, 140, 150, 160, 170, 180, 190, 200], 'criterion': ['mae', 'mse'], 'max_features': ['sqrt', 'log2', 0.25, 0.3, 0.5, 0.8, None], 'max_depth': [1, 2, 3, 4, 5, 6, 7, 8, 9], 'min_samples_leaf': [1, 2, 3, 4, 5, 6, 7, 8, 9]},\n",
       "          pre_dispatch='2*n_jobs', random_state=11, refit=True,\n",
       "          return_train_score=True, scoring='accuracy', verbose=0)"
      ]
     },
     "execution_count": 264,
     "metadata": {},
     "output_type": "execute_result"
    }
   ],
   "source": [
    "rand_search_params = {\n",
    "    'param_distributions': param_dist,\n",
    "    'scoring': 'accuracy',\n",
    "    'n_iter': 100,\n",
    "    'cv': 5,\n",
    "    'return_train_score': True,\n",
    "    'n_jobs': -1,\n",
    "    'random_state': 11\n",
    "}\n",
    "random_search = RandomizedSearchCV(meta_gbc, **rand_search_params)\n",
    "random_search.fit(X, y)"
   ]
  },
  {
   "cell_type": "code",
   "execution_count": 385,
   "metadata": {},
   "outputs": [
    {
     "data": {
      "text/plain": [
       "{'n_estimators': 180,\n",
       " 'min_samples_leaf': 1,\n",
       " 'max_features': 'log2',\n",
       " 'max_depth': 2,\n",
       " 'criterion': 'mse'}"
      ]
     },
     "execution_count": 385,
     "metadata": {},
     "output_type": "execute_result"
    }
   ],
   "source": [
    "idx = np.argmax(random_search.cv_results_['mean_test_score'])\n",
    "final_params = random_search.cv_results_['params'][idx]\n",
    "final_params"
   ]
  },
  {
   "cell_type": "code",
   "execution_count": 425,
   "metadata": {},
   "outputs": [
    {
     "data": {
      "text/plain": [
       "((999, 49), (999,), (177, 49), (177,))"
      ]
     },
     "execution_count": 425,
     "metadata": {},
     "output_type": "execute_result"
    }
   ],
   "source": [
    "train_X, val_X, train_y, val_y = train_test_split(X, y, test_size=0.15, random_state=11)\n",
    "train_X.shape, train_y.shape, val_X.shape, val_y.shape"
   ]
  },
  {
   "cell_type": "code",
   "execution_count": 426,
   "metadata": {},
   "outputs": [],
   "source": [
    "gbc = GradientBoostingClassifier(**final_params)\n",
    "gbc.fit(train_X, train_y)\n",
    "\n",
    "preds_train = gbc.predict(train_X)\n",
    "preds_val = gbc.predict(val_X)\n",
    "pred_probs_val = np.array([each[1] for each in gbc.predict_proba(val_X)])"
   ]
  },
  {
   "cell_type": "code",
   "execution_count": 427,
   "metadata": {},
   "outputs": [
    {
     "name": "stdout",
     "output_type": "stream",
     "text": [
      "train accuracy_score = 0.9319319319319319\n",
      "validation accuracy_score = 0.8587570621468926\n",
      "confusion_matrix: \n",
      "[[146   0]\n",
      " [ 25   6]]\n",
      "precision_score = 1.0\n",
      "recall_score = 0.1935483870967742\n"
     ]
    }
   ],
   "source": [
    "print('train accuracy_score = {}'.format(accuracy_score(y_true=train_y, y_pred=preds_train)))\n",
    "print('validation accuracy_score = {}'.format(accuracy_score(y_true=val_y, y_pred=preds_val)))\n",
    "\n",
    "print('confusion_matrix: \\n{}'.format(confusion_matrix(y_true=val_y, y_pred=preds_val)))\n",
    "print('precision_score = {}'.format(precision_score(y_true=val_y, y_pred=preds_val)))\n",
    "print('recall_score = {}'.format(recall_score(y_true=val_y, y_pred=preds_val)))"
   ]
  },
  {
   "cell_type": "code",
   "execution_count": 436,
   "metadata": {},
   "outputs": [
    {
     "name": "stdout",
     "output_type": "stream",
     "text": [
      "confusion_matrix: \n",
      "[[98 48]\n",
      " [ 4 27]]\n",
      "precision_score = 0.36\n",
      "recall_score = 0.8709677419354839\n"
     ]
    }
   ],
   "source": [
    "threshold = 0.1\n",
    "preds_val = (pred_probs_val > threshold).astype(int)\n",
    "\n",
    "print('confusion_matrix: \\n{}'.format(confusion_matrix(y_true=val_y, y_pred=preds_val)))\n",
    "print('precision_score = {}'.format(precision_score(y_true=val_y, y_pred=preds_val)))\n",
    "print('recall_score = {}'.format(recall_score(y_true=val_y, y_pred=preds_val)))"
   ]
  },
  {
   "cell_type": "code",
   "execution_count": 451,
   "metadata": {},
   "outputs": [
    {
     "data": {
      "image/png": "[encoded data removed]",
      "text/plain": [
       "<Figure size 720x504 with 1 Axes>"
      ]
     },
     "metadata": {},
     "output_type": "display_data"
    }
   ],
   "source": [
    "precision, recall, thresholds = precision_recall_curve(val_y, pred_probs_val)\n",
    "PR_variation_df = pd.DataFrame({'precision': precision, 'recall': recall}, index=list(thresholds)+[1])\n",
    "\n",
    "PR_variation_df.plot(figsize=(10,7))\n",
    "plt.xlabel('Threshold')\n",
    "plt.ylabel('P/R values')\n",
    "plt.show()"
   ]
  },
  {
   "cell_type": "code",
   "execution_count": 437,
   "metadata": {},
   "outputs": [
    {
     "data": {
      "image/png": "[encoded data removed]",
      "text/plain": [
       "<Figure size 720x504 with 1 Axes>"
      ]
     },
     "metadata": {},
     "output_type": "display_data"
    }
   ],
   "source": [
    "plt.figure(figsize=(10,7))\n",
    "\n",
    "plt.plot(recall, precision)\n",
    "\n",
    "plt.xlabel('Recall')\n",
    "plt.ylabel('Precision')\n",
    "plt.show()"
   ]
  },
  {
   "cell_type": "code",
   "execution_count": 452,
   "metadata": {},
   "outputs": [],
   "source": [
    "final_threshold = 0.3"
   ]
  },
  {
   "cell_type": "markdown",
   "metadata": {},
   "source": [
    "## Reading & processing test dataset"
   ]
  },
  {
   "cell_type": "code",
   "execution_count": 456,
   "metadata": {
    "collapsed": true
   },
   "outputs": [
    {
     "name": "stdout",
     "output_type": "stream",
     "text": [
      "<class 'pandas.core.frame.DataFrame'>\n",
      "RangeIndex: 294 entries, 0 to 293\n",
      "Data columns (total 30 columns):\n",
      "Age                         294 non-null int64\n",
      "BusinessTravel              294 non-null object\n",
      "DailyRate                   294 non-null int64\n",
      "Department                  294 non-null object\n",
      "DistanceFromHome            294 non-null int64\n",
      "Education                   294 non-null int64\n",
      "EducationField              294 non-null object\n",
      "EnvironmentSatisfaction     294 non-null int64\n",
      "Gender                      294 non-null int64\n",
      "HourlyRate                  294 non-null int64\n",
      "JobInvolvement              294 non-null int64\n",
      "JobLevel                    294 non-null int64\n",
      "JobRole                     294 non-null object\n",
      "JobSatisfaction             294 non-null int64\n",
      "MaritalStatus               294 non-null object\n",
      "MonthlyIncome               294 non-null int64\n",
      "MonthlyRate                 294 non-null int64\n",
      "NumCompaniesWorked          294 non-null int64\n",
      "OverTime                    294 non-null int64\n",
      "PercentSalaryHike           294 non-null int64\n",
      "PerformanceRating           294 non-null int64\n",
      "RelationshipSatisfaction    294 non-null int64\n",
      "StockOptionLevel            294 non-null int64\n",
      "TotalWorkingYears           294 non-null int64\n",
      "TrainingTimesLastYear       294 non-null int64\n",
      "WorkLifeBalance             294 non-null int64\n",
      "YearsAtCompany              294 non-null int64\n",
      "YearsInCurrentRole          294 non-null int64\n",
      "YearsSinceLastPromotion     294 non-null int64\n",
      "YearsWithCurrManager        294 non-null int64\n",
      "dtypes: int64(25), object(5)\n",
      "memory usage: 69.0+ KB\n"
     ]
    }
   ],
   "source": [
    "test = pd.read_csv('attrition_test.csv')\n",
    "test.info()"
   ]
  },
  {
   "cell_type": "code",
   "execution_count": 466,
   "metadata": {},
   "outputs": [
    {
     "name": "stdout",
     "output_type": "stream",
     "text": [
      "25 24\n"
     ]
    }
   ],
   "source": [
    "num_orig_cols = test.shape[1] - len(cat_values_dict)\n",
    "num_enc_cols = sum([len(cats) for cats in cat_values_dict.values()])\n",
    "print(num_orig_cols, num_enc_cols)"
   ]
  },
  {
   "cell_type": "code",
   "execution_count": 467,
   "metadata": {
    "scrolled": true
   },
   "outputs": [],
   "source": [
    "test_X = np.zeros(shape=(test.shape[0], num_orig_cols+num_enc_cols))\n",
    "\n",
    "mask = [(each not in cat_values_dict) for each in test.columns]\n",
    "test_X[:, :num_orig_cols] = test.loc[:, test.columns[mask]]"
   ]
  },
  {
   "cell_type": "code",
   "execution_count": 469,
   "metadata": {},
   "outputs": [
    {
     "name": "stdout",
     "output_type": "stream",
     "text": [
      "(294, 49)\n"
     ]
    }
   ],
   "source": [
    "cat_cols = list(cat_values_dict.keys())\n",
    "cat_values = [cat_values_dict[col] for col in test[cat_cols].columns]\n",
    "\n",
    "ohe = OneHotEncoder(categories=cat_values, sparse=False, )\n",
    "\n",
    "test_X[:, num_orig_cols:] = ohe.fit_transform(X=test[cat_cols])\n",
    "print(test_X.shape)"
   ]
  },
  {
   "cell_type": "markdown",
   "metadata": {},
   "source": [
    "## Predicting on test dataset"
   ]
  },
  {
   "cell_type": "code",
   "execution_count": 470,
   "metadata": {},
   "outputs": [],
   "source": [
    "pred_probs_test = np.array([each[1] for each in gbc.predict_proba(test_X)])\n",
    "preds_test = (pred_probs_test > final_threshold).astype(int)"
   ]
  },
  {
   "cell_type": "code",
   "execution_count": 480,
   "metadata": {},
   "outputs": [],
   "source": [
    "with open('final_predictions.csv', 'w') as f:\n",
    "    f.writelines([str(val)+'\\n' for val in preds_test])"
   ]
  }
 ],
 "metadata": {
  "kernelspec": {
   "display_name": "Python 3",
   "language": "python3",
   "name": "python3"
  },
  "language_info": {
   "codemirror_mode": {
    "name": "ipython",
    "version": 3
   },
   "file_extension": ".py",
   "mimetype": "text/x-python",
   "name": "python",
   "nbconvert_exporter": "python",
   "pygments_lexer": "ipython3",
   "version": "3.6.5"
  }
 },
 "nbformat": 4,
 "nbformat_minor": 2
}
