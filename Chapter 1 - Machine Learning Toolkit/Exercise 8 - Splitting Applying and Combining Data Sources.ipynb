{
 "cells": [
  {
   "cell_type": "markdown",
   "metadata": {},
   "source": [
    "# Exercise 8: Splitting / Applying / Combining Data Sources\n",
    "\n",
    "Let's group by the values in the Embarked column. What groups are available?"
   ]
  },
  {
   "cell_type": "code",
   "execution_count": 1,
   "metadata": {},
   "outputs": [],
   "source": [
    "import pandas as pd\n",
    "import numpy as np\n",
    "\n",
    "df = pd.read_csv('titanic.csv')"
   ]
  },
  {
   "cell_type": "code",
   "execution_count": 2,
   "metadata": {},
   "outputs": [
    {
     "name": "stdout",
     "output_type": "stream",
     "text": [
      "There are 3 Embarked groups\n"
     ]
    }
   ],
   "source": [
    "embarked_grouped = df.groupby('Embarked')\n",
    "\n",
    "print(f'There are {len(embarked_grouped)} Embarked groups')"
   ]
  },
  {
   "cell_type": "markdown",
   "metadata": {},
   "source": [
    "What is actually in the groups?"
   ]
  },
  {
   "cell_type": "code",
   "execution_count": 3,
   "metadata": {},
   "outputs": [
    {
     "data": {
      "text/plain": [
       "{'C': Int64Index([   1,    9,   19,   26,   30,   31,   34,   36,   39,   42,\n",
       "             ...\n",
       "             1260, 1262, 1266, 1288, 1293, 1295, 1296, 1298, 1305, 1308],\n",
       "            dtype='int64', length=270),\n",
       " 'Q': Int64Index([   5,   16,   22,   28,   32,   44,   46,   47,   82,  109,\n",
       "             ...\n",
       "             1206, 1249, 1271, 1272, 1279, 1287, 1290, 1299, 1301, 1302],\n",
       "            dtype='int64', length=123),\n",
       " 'S': Int64Index([   0,    2,    3,    4,    6,    7,    8,   10,   11,   12,\n",
       "             ...\n",
       "             1289, 1291, 1292, 1294, 1297, 1300, 1303, 1304, 1306, 1307],\n",
       "            dtype='int64', length=914)}"
      ]
     },
     "execution_count": 3,
     "metadata": {},
     "output_type": "execute_result"
    }
   ],
   "source": [
    "embarked_grouped.groups"
   ]
  },
  {
   "cell_type": "markdown",
   "metadata": {},
   "source": [
    "Pick the first index to examine"
   ]
  },
  {
   "cell_type": "code",
   "execution_count": 4,
   "metadata": {},
   "outputs": [
    {
     "data": {
      "text/plain": [
       "Unnamed: 0                                                    1\n",
       "Cabin                                                       C85\n",
       "Embarked                                                      C\n",
       "Fare                                                    71.2833\n",
       "Pclass                                                        1\n",
       "Ticket                                                 PC 17599\n",
       "Age                                                          38\n",
       "Name          Cumings, Mrs. John Bradley (Florence Briggs Th...\n",
       "Parch                                                         0\n",
       "Sex                                                      female\n",
       "SibSp                                                         1\n",
       "Survived                                                      1\n",
       "Name: 1, dtype: object"
      ]
     },
     "execution_count": 4,
     "metadata": {},
     "output_type": "execute_result"
    }
   ],
   "source": [
    "df.iloc[1]"
   ]
  },
  {
   "cell_type": "markdown",
   "metadata": {},
   "source": [
    "We can also iterate through each of the groups and the corresponding values.  Say we wanted an average age for each member of the embarked groups:"
   ]
  },
  {
   "cell_type": "code",
   "execution_count": 5,
   "metadata": {},
   "outputs": [
    {
     "name": "stdout",
     "output_type": "stream",
     "text": [
      "C 32.33216981132075\n",
      "Q 28.63\n",
      "S 29.245204603580564\n"
     ]
    }
   ],
   "source": [
    "for name, group in embarked_grouped:\n",
    "    print(name, group.Age.mean())"
   ]
  },
  {
   "cell_type": "markdown",
   "metadata": {},
   "source": [
    "We can also use the **aggregate** or **agg** method for short:"
   ]
  },
  {
   "cell_type": "code",
   "execution_count": 6,
   "metadata": {},
   "outputs": [
    {
     "data": {
      "text/html": [
       "<div>\n",
       "<style scoped>\n",
       "    .dataframe tbody tr th:only-of-type {\n",
       "        vertical-align: middle;\n",
       "    }\n",
       "\n",
       "    .dataframe tbody tr th {\n",
       "        vertical-align: top;\n",
       "    }\n",
       "\n",
       "    .dataframe thead th {\n",
       "        text-align: right;\n",
       "    }\n",
       "</style>\n",
       "<table border=\"1\" class=\"dataframe\">\n",
       "  <thead>\n",
       "    <tr style=\"text-align: right;\">\n",
       "      <th></th>\n",
       "      <th>Unnamed: 0</th>\n",
       "      <th>Fare</th>\n",
       "      <th>Pclass</th>\n",
       "      <th>Age</th>\n",
       "      <th>Parch</th>\n",
       "      <th>SibSp</th>\n",
       "      <th>Survived</th>\n",
       "    </tr>\n",
       "    <tr>\n",
       "      <th>Embarked</th>\n",
       "      <th></th>\n",
       "      <th></th>\n",
       "      <th></th>\n",
       "      <th></th>\n",
       "      <th></th>\n",
       "      <th></th>\n",
       "      <th></th>\n",
       "    </tr>\n",
       "  </thead>\n",
       "  <tbody>\n",
       "    <tr>\n",
       "      <th>C</th>\n",
       "      <td>689.655556</td>\n",
       "      <td>62.336267</td>\n",
       "      <td>1.851852</td>\n",
       "      <td>32.332170</td>\n",
       "      <td>0.370370</td>\n",
       "      <td>0.400000</td>\n",
       "      <td>0.553571</td>\n",
       "    </tr>\n",
       "    <tr>\n",
       "      <th>Q</th>\n",
       "      <td>667.593496</td>\n",
       "      <td>12.409012</td>\n",
       "      <td>2.894309</td>\n",
       "      <td>28.630000</td>\n",
       "      <td>0.113821</td>\n",
       "      <td>0.341463</td>\n",
       "      <td>0.389610</td>\n",
       "    </tr>\n",
       "    <tr>\n",
       "      <th>S</th>\n",
       "      <td>642.095186</td>\n",
       "      <td>27.418824</td>\n",
       "      <td>2.347921</td>\n",
       "      <td>29.245205</td>\n",
       "      <td>0.426696</td>\n",
       "      <td>0.550328</td>\n",
       "      <td>0.336957</td>\n",
       "    </tr>\n",
       "  </tbody>\n",
       "</table>\n",
       "</div>"
      ],
      "text/plain": [
       "          Unnamed: 0       Fare    Pclass        Age     Parch     SibSp  \\\n",
       "Embarked                                                                   \n",
       "C         689.655556  62.336267  1.851852  32.332170  0.370370  0.400000   \n",
       "Q         667.593496  12.409012  2.894309  28.630000  0.113821  0.341463   \n",
       "S         642.095186  27.418824  2.347921  29.245205  0.426696  0.550328   \n",
       "\n",
       "          Survived  \n",
       "Embarked            \n",
       "C         0.553571  \n",
       "Q         0.389610  \n",
       "S         0.336957  "
      ]
     },
     "execution_count": 6,
     "metadata": {},
     "output_type": "execute_result"
    }
   ],
   "source": [
    "embarked_grouped.agg(np.mean)"
   ]
  },
  {
   "cell_type": "markdown",
   "metadata": {},
   "source": [
    "By passing the function or compute through the aggregate method:"
   ]
  },
  {
   "cell_type": "code",
   "execution_count": 7,
   "metadata": {},
   "outputs": [
    {
     "data": {
      "text/html": [
       "<div>\n",
       "<style scoped>\n",
       "    .dataframe tbody tr th:only-of-type {\n",
       "        vertical-align: middle;\n",
       "    }\n",
       "\n",
       "    .dataframe tbody tr th {\n",
       "        vertical-align: top;\n",
       "    }\n",
       "\n",
       "    .dataframe thead th {\n",
       "        text-align: right;\n",
       "    }\n",
       "</style>\n",
       "<table border=\"1\" class=\"dataframe\">\n",
       "  <thead>\n",
       "    <tr style=\"text-align: right;\">\n",
       "      <th></th>\n",
       "      <th>Unnamed: 0</th>\n",
       "      <th>Fare</th>\n",
       "      <th>Pclass</th>\n",
       "      <th>Age</th>\n",
       "      <th>Parch</th>\n",
       "      <th>SibSp</th>\n",
       "      <th>Survived</th>\n",
       "    </tr>\n",
       "    <tr>\n",
       "      <th>Embarked</th>\n",
       "      <th></th>\n",
       "      <th></th>\n",
       "      <th></th>\n",
       "      <th></th>\n",
       "      <th></th>\n",
       "      <th></th>\n",
       "      <th></th>\n",
       "    </tr>\n",
       "  </thead>\n",
       "  <tbody>\n",
       "    <tr>\n",
       "      <th>C</th>\n",
       "      <td>186207</td>\n",
       "      <td>16830.7922</td>\n",
       "      <td>500</td>\n",
       "      <td>6854.42</td>\n",
       "      <td>100</td>\n",
       "      <td>108</td>\n",
       "      <td>93.0</td>\n",
       "    </tr>\n",
       "    <tr>\n",
       "      <th>Q</th>\n",
       "      <td>82114</td>\n",
       "      <td>1526.3085</td>\n",
       "      <td>356</td>\n",
       "      <td>1431.50</td>\n",
       "      <td>14</td>\n",
       "      <td>42</td>\n",
       "      <td>30.0</td>\n",
       "    </tr>\n",
       "    <tr>\n",
       "      <th>S</th>\n",
       "      <td>586875</td>\n",
       "      <td>25033.3862</td>\n",
       "      <td>2146</td>\n",
       "      <td>22869.75</td>\n",
       "      <td>390</td>\n",
       "      <td>503</td>\n",
       "      <td>217.0</td>\n",
       "    </tr>\n",
       "  </tbody>\n",
       "</table>\n",
       "</div>"
      ],
      "text/plain": [
       "          Unnamed: 0        Fare  Pclass       Age  Parch  SibSp  Survived\n",
       "Embarked                                                                  \n",
       "C             186207  16830.7922     500   6854.42    100    108      93.0\n",
       "Q              82114   1526.3085     356   1431.50     14     42      30.0\n",
       "S             586875  25033.3862    2146  22869.75    390    503     217.0"
      ]
     },
     "execution_count": 7,
     "metadata": {},
     "output_type": "execute_result"
    }
   ],
   "source": [
    "embarked_grouped.agg(np.sum)"
   ]
  },
  {
   "cell_type": "markdown",
   "metadata": {},
   "source": [
    "We can also apply our own functions, as long as the function can operate on a Pandas Series object"
   ]
  },
  {
   "cell_type": "code",
   "execution_count": 8,
   "metadata": {},
   "outputs": [
    {
     "data": {
      "text/html": [
       "<div>\n",
       "<style scoped>\n",
       "    .dataframe tbody tr th:only-of-type {\n",
       "        vertical-align: middle;\n",
       "    }\n",
       "\n",
       "    .dataframe tbody tr th {\n",
       "        vertical-align: top;\n",
       "    }\n",
       "\n",
       "    .dataframe thead th {\n",
       "        text-align: right;\n",
       "    }\n",
       "</style>\n",
       "<table border=\"1\" class=\"dataframe\">\n",
       "  <thead>\n",
       "    <tr style=\"text-align: right;\">\n",
       "      <th></th>\n",
       "      <th>Unnamed: 0</th>\n",
       "      <th>Cabin</th>\n",
       "      <th>Fare</th>\n",
       "      <th>Pclass</th>\n",
       "      <th>Ticket</th>\n",
       "      <th>Age</th>\n",
       "      <th>Name</th>\n",
       "      <th>Parch</th>\n",
       "      <th>Sex</th>\n",
       "      <th>SibSp</th>\n",
       "      <th>Survived</th>\n",
       "    </tr>\n",
       "    <tr>\n",
       "      <th>Embarked</th>\n",
       "      <th></th>\n",
       "      <th></th>\n",
       "      <th></th>\n",
       "      <th></th>\n",
       "      <th></th>\n",
       "      <th></th>\n",
       "      <th></th>\n",
       "      <th></th>\n",
       "      <th></th>\n",
       "      <th></th>\n",
       "      <th></th>\n",
       "    </tr>\n",
       "  </thead>\n",
       "  <tbody>\n",
       "    <tr>\n",
       "      <th>C</th>\n",
       "      <td>1</td>\n",
       "      <td>C85</td>\n",
       "      <td>71.2833</td>\n",
       "      <td>1</td>\n",
       "      <td>PC 17599</td>\n",
       "      <td>38.0</td>\n",
       "      <td>Cumings, Mrs. John Bradley (Florence Briggs Th...</td>\n",
       "      <td>0</td>\n",
       "      <td>female</td>\n",
       "      <td>1</td>\n",
       "      <td>1.0</td>\n",
       "    </tr>\n",
       "    <tr>\n",
       "      <th>Q</th>\n",
       "      <td>5</td>\n",
       "      <td>NaN</td>\n",
       "      <td>8.4583</td>\n",
       "      <td>3</td>\n",
       "      <td>330877</td>\n",
       "      <td>NaN</td>\n",
       "      <td>Moran, Mr. James</td>\n",
       "      <td>0</td>\n",
       "      <td>male</td>\n",
       "      <td>0</td>\n",
       "      <td>0.0</td>\n",
       "    </tr>\n",
       "    <tr>\n",
       "      <th>S</th>\n",
       "      <td>0</td>\n",
       "      <td>NaN</td>\n",
       "      <td>7.2500</td>\n",
       "      <td>3</td>\n",
       "      <td>A/5 21171</td>\n",
       "      <td>22.0</td>\n",
       "      <td>Braund, Mr. Owen Harris</td>\n",
       "      <td>0</td>\n",
       "      <td>male</td>\n",
       "      <td>1</td>\n",
       "      <td>0.0</td>\n",
       "    </tr>\n",
       "  </tbody>\n",
       "</table>\n",
       "</div>"
      ],
      "text/plain": [
       "          Unnamed: 0 Cabin     Fare  Pclass     Ticket   Age  \\\n",
       "Embarked                                                       \n",
       "C                  1   C85  71.2833       1   PC 17599  38.0   \n",
       "Q                  5   NaN   8.4583       3     330877   NaN   \n",
       "S                  0   NaN   7.2500       3  A/5 21171  22.0   \n",
       "\n",
       "                                                       Name  Parch     Sex  \\\n",
       "Embarked                                                                     \n",
       "C         Cumings, Mrs. John Bradley (Florence Briggs Th...      0  female   \n",
       "Q                                          Moran, Mr. James      0    male   \n",
       "S                                   Braund, Mr. Owen Harris      0    male   \n",
       "\n",
       "          SibSp  Survived  \n",
       "Embarked                   \n",
       "C             1       1.0  \n",
       "Q             0       0.0  \n",
       "S             1       0.0  "
      ]
     },
     "execution_count": 8,
     "metadata": {},
     "output_type": "execute_result"
    }
   ],
   "source": [
    "def first_val(x):\n",
    "        \n",
    "    return x.values[0]\n",
    "\n",
    "embarked_grouped.agg(first_val)"
   ]
  }
 ],
 "metadata": {
  "kernelspec": {
   "display_name": "Python 3",
   "language": "python",
   "name": "python3"
  },
  "language_info": {
   "codemirror_mode": {
    "name": "ipython",
    "version": 3
   },
   "file_extension": ".py",
   "mimetype": "text/x-python",
   "name": "python",
   "nbconvert_exporter": "python",
   "pygments_lexer": "ipython3",
   "version": "3.7.1"
  }
 },
 "nbformat": 4,
 "nbformat_minor": 2
}
