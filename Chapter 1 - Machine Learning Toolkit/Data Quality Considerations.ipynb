{
 "cells": [
  {
   "cell_type": "markdown",
   "metadata": {},
   "source": [
    "# Data Quality Considerations"
   ]
  },
  {
   "cell_type": "code",
   "execution_count": 1,
   "metadata": {},
   "outputs": [],
   "source": [
    "import pandas as pd\n",
    "import numpy as np\n",
    "\n",
    "df = pd.read_csv('titanic.csv')"
   ]
  },
  {
   "cell_type": "markdown",
   "metadata": {},
   "source": [
    "## Managing Missing Data\n",
    "\n",
    "How big is the dataset?"
   ]
  },
  {
   "cell_type": "code",
   "execution_count": 2,
   "metadata": {},
   "outputs": [
    {
     "data": {
      "text/plain": [
       "1309"
      ]
     },
     "execution_count": 2,
     "metadata": {},
     "output_type": "execute_result"
    }
   ],
   "source": [
    "len(df)"
   ]
  },
  {
   "cell_type": "markdown",
   "metadata": {},
   "source": [
    "How big would it be if we were to drop all rows missing data?"
   ]
  },
  {
   "cell_type": "code",
   "execution_count": 3,
   "metadata": {},
   "outputs": [
    {
     "data": {
      "text/plain": [
       "183"
      ]
     },
     "execution_count": 3,
     "metadata": {},
     "output_type": "execute_result"
    }
   ],
   "source": [
    "len(df.dropna())"
   ]
  },
  {
   "cell_type": "markdown",
   "metadata": {},
   "source": [
    "So how many NaNs are there in each of the rows?  The following Lambda function calls the **isna** method of each *Series*, which returns a *Series* of boolean values, then adds them up (as True is considered 1 and False 0)."
   ]
  },
  {
   "cell_type": "code",
   "execution_count": 4,
   "metadata": {},
   "outputs": [
    {
     "data": {
      "text/plain": [
       "Unnamed: 0       0\n",
       "Cabin         1014\n",
       "Embarked         2\n",
       "Fare             1\n",
       "Pclass           0\n",
       "Ticket           0\n",
       "Age            263\n",
       "Name             0\n",
       "Parch            0\n",
       "Sex              0\n",
       "SibSp            0\n",
       "Survived       418\n",
       "dtype: int64"
      ]
     },
     "execution_count": 4,
     "metadata": {},
     "output_type": "execute_result"
    }
   ],
   "source": [
    "df.aggregate(lambda x: x.isna().sum())"
   ]
  },
  {
   "cell_type": "markdown",
   "metadata": {},
   "source": [
    "Extract all rows where Embarked and Fare is not NaN"
   ]
  },
  {
   "cell_type": "code",
   "execution_count": 5,
   "metadata": {},
   "outputs": [],
   "source": [
    "df_valid = df.loc[(~df.Embarked.isna()) & (~df.Fare.isna())]"
   ]
  },
  {
   "cell_type": "markdown",
   "metadata": {},
   "source": [
    "Of the valid data, what is the average age of each of the Pclasses?"
   ]
  },
  {
   "cell_type": "code",
   "execution_count": 6,
   "metadata": {},
   "outputs": [
    {
     "data": {
      "text/plain": [
       "39.08304964539007"
      ]
     },
     "execution_count": 6,
     "metadata": {},
     "output_type": "execute_result"
    }
   ],
   "source": [
    "df_valid.loc[df.Pclass == 1, 'Age'].mean()"
   ]
  },
  {
   "cell_type": "code",
   "execution_count": 7,
   "metadata": {},
   "outputs": [
    {
     "data": {
      "text/plain": [
       "29.506704980842912"
      ]
     },
     "execution_count": 7,
     "metadata": {},
     "output_type": "execute_result"
    }
   ],
   "source": [
    "df_valid.loc[df.Pclass == 2, 'Age'].mean()"
   ]
  },
  {
   "cell_type": "markdown",
   "metadata": {},
   "source": [
    "Let's fill in the missing age values with the mean values as grouped by Pclass and Sex"
   ]
  },
  {
   "cell_type": "code",
   "execution_count": 8,
   "metadata": {},
   "outputs": [],
   "source": [
    "def func(x):\n",
    "    return x.fillna(x.mean())"
   ]
  },
  {
   "cell_type": "code",
   "execution_count": 9,
   "metadata": {
    "scrolled": true
   },
   "outputs": [
    {
     "data": {
      "text/plain": [
       "0       22.000000\n",
       "1       38.000000\n",
       "2       26.000000\n",
       "3       35.000000\n",
       "4       35.000000\n",
       "5       25.863017\n",
       "6       54.000000\n",
       "7        2.000000\n",
       "8       27.000000\n",
       "9       14.000000\n",
       "10       4.000000\n",
       "11      58.000000\n",
       "12      20.000000\n",
       "13      39.000000\n",
       "14      14.000000\n",
       "15      55.000000\n",
       "16       2.000000\n",
       "17      30.815380\n",
       "18      31.000000\n",
       "19      22.185329\n",
       "20      35.000000\n",
       "21      34.000000\n",
       "22      15.000000\n",
       "23      28.000000\n",
       "24       8.000000\n",
       "25      38.000000\n",
       "26      25.863017\n",
       "27      19.000000\n",
       "28      22.185329\n",
       "29      25.863017\n",
       "          ...    \n",
       "1279    21.000000\n",
       "1280     6.000000\n",
       "1281    23.000000\n",
       "1282    51.000000\n",
       "1283    13.000000\n",
       "1284    47.000000\n",
       "1285    29.000000\n",
       "1286    18.000000\n",
       "1287    24.000000\n",
       "1288    48.000000\n",
       "1289    22.000000\n",
       "1290    31.000000\n",
       "1291    30.000000\n",
       "1292    38.000000\n",
       "1293    22.000000\n",
       "1294    17.000000\n",
       "1295    43.000000\n",
       "1296    20.000000\n",
       "1297    23.000000\n",
       "1298    50.000000\n",
       "1299    22.185329\n",
       "1300     3.000000\n",
       "1301    22.185329\n",
       "1302    37.000000\n",
       "1303    28.000000\n",
       "1304    25.863017\n",
       "1305    39.000000\n",
       "1306    38.500000\n",
       "1307    25.863017\n",
       "1308    25.863017\n",
       "Name: Age, Length: 1306, dtype: float64"
      ]
     },
     "execution_count": 9,
     "metadata": {},
     "output_type": "execute_result"
    }
   ],
   "source": [
    "mean_ages = df_valid.groupby(['Pclass', 'Sex'])['Age'].transform(lambda x: x.fillna(x.mean()))\n",
    "mean_ages"
   ]
  },
  {
   "cell_type": "markdown",
   "metadata": {},
   "source": [
    "## Class Imbalance\n",
    "\n",
    "There is a significant class imbalance between the number of passengers who did or did not survive:"
   ]
  },
  {
   "cell_type": "code",
   "execution_count": 10,
   "metadata": {},
   "outputs": [
    {
     "data": {
      "text/plain": [
       "342"
      ]
     },
     "execution_count": 10,
     "metadata": {},
     "output_type": "execute_result"
    }
   ],
   "source": [
    "len(df.loc[df.Survived == 1])"
   ]
  },
  {
   "cell_type": "code",
   "execution_count": 11,
   "metadata": {},
   "outputs": [
    {
     "data": {
      "text/plain": [
       "549"
      ]
     },
     "execution_count": 11,
     "metadata": {},
     "output_type": "execute_result"
    }
   ],
   "source": [
    "len(df.loc[df.Survived == 0])"
   ]
  },
  {
   "cell_type": "markdown",
   "metadata": {},
   "source": [
    "We could randomly remove some of the Survived = 0 values to even the numbers"
   ]
  },
  {
   "cell_type": "code",
   "execution_count": 12,
   "metadata": {},
   "outputs": [],
   "source": [
    "num_to_drop = len(df.loc[df.Survived == 0]) - len(df.loc[df.Survived == 1]) # Get the number of samples to drop\n",
    "indices_to_drop = df.loc[df.Survived == 0].index.tolist() # Get the indices of Survived == 0 as a list\n",
    "np.random.shuffle(indices_to_drop) # Randomly shuffle the indices\n",
    "\n",
    "df_dropped_survive = df.copy()\n",
    "df_dropped_survive = df_dropped_survive.drop(indices_to_drop[:num_to_drop]) # Drop the indices"
   ]
  },
  {
   "cell_type": "markdown",
   "metadata": {},
   "source": [
    "How is the balance now?\n"
   ]
  },
  {
   "cell_type": "code",
   "execution_count": 13,
   "metadata": {},
   "outputs": [
    {
     "data": {
      "text/plain": [
       "342"
      ]
     },
     "execution_count": 13,
     "metadata": {},
     "output_type": "execute_result"
    }
   ],
   "source": [
    "len(df_dropped_survive.loc[df_dropped_survive.Survived == 1])"
   ]
  },
  {
   "cell_type": "code",
   "execution_count": 14,
   "metadata": {
    "scrolled": true
   },
   "outputs": [
    {
     "data": {
      "text/plain": [
       "342"
      ]
     },
     "execution_count": 14,
     "metadata": {},
     "output_type": "execute_result"
    }
   ],
   "source": [
    "len(df_dropped_survive.loc[df_dropped_survive.Survived == 0])"
   ]
  },
  {
   "cell_type": "markdown",
   "metadata": {},
   "source": [
    "We can also upsample some of the Survived = 1 values"
   ]
  },
  {
   "cell_type": "code",
   "execution_count": 15,
   "metadata": {},
   "outputs": [],
   "source": [
    "num_to_add = num_to_drop\n",
    "indices_to_append = df.loc[df.Survived == 1].index.tolist() # Get the indices of Survived == 0 as a list\n",
    "np.random.shuffle(indices_to_append) # Randomly shuffle the indices\n",
    "\n",
    "samples_to_append = df.iloc[indices_to_append[:num_to_add]]\n",
    "\n",
    "df_upsampled_survive = df.copy()\n",
    "df_upsampled_survive = pd.concat((df_upsampled_survive, samples_to_append))"
   ]
  },
  {
   "cell_type": "markdown",
   "metadata": {},
   "source": [
    "How is the balance now?\n"
   ]
  },
  {
   "cell_type": "code",
   "execution_count": 16,
   "metadata": {},
   "outputs": [
    {
     "data": {
      "text/plain": [
       "549"
      ]
     },
     "execution_count": 16,
     "metadata": {},
     "output_type": "execute_result"
    }
   ],
   "source": [
    "len(df_upsampled_survive.loc[df_upsampled_survive.Survived == 1])"
   ]
  },
  {
   "cell_type": "code",
   "execution_count": 17,
   "metadata": {
    "scrolled": true
   },
   "outputs": [
    {
     "data": {
      "text/plain": [
       "549"
      ]
     },
     "execution_count": 17,
     "metadata": {},
     "output_type": "execute_result"
    }
   ],
   "source": [
    "len(df_upsampled_survive.loc[df_upsampled_survive.Survived == 0])"
   ]
  }
 ],
 "metadata": {
  "kernelspec": {
   "display_name": "Python 3",
   "language": "python",
   "name": "python3"
  },
  "language_info": {
   "codemirror_mode": {
    "name": "ipython",
    "version": 3
   },
   "file_extension": ".py",
   "mimetype": "text/x-python",
   "name": "python",
   "nbconvert_exporter": "python",
   "pygments_lexer": "ipython3",
   "version": "3.7.1"
  }
 },
 "nbformat": 4,
 "nbformat_minor": 2
}
