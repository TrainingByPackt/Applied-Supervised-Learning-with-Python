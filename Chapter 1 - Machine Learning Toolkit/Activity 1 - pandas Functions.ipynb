{
 "cells": [
  {
   "cell_type": "markdown",
   "metadata": {},
   "source": [
    "# Activity 1 - pandas Functions"
   ]
  },
  {
   "cell_type": "markdown",
   "metadata": {},
   "source": [
    "1. Use Pandas to load the Titanic dataset and describe the summary data for all columns"
   ]
  },
  {
   "cell_type": "markdown",
   "metadata": {},
   "source": [
    "2. We don't need the column **Unnamed: 0**, in the previous exercises we demonstrated how to remove the column using the **del** command.  How else could we remove this column, without using **del**?"
   ]
  },
  {
   "cell_type": "markdown",
   "metadata": {},
   "source": [
    "3. Compute the mean standard deviation, minimum and maximum values for the columns of the dataframe **without** using **describe**"
   ]
  },
  {
   "cell_type": "markdown",
   "metadata": {},
   "source": [
    "4. What about the 33, 66 and 99% quartiles? How would we get these values using the individual method? As a hint the method quantile is the one to call (https://pandas.pydata.org/pandas-docs/stable/reference/frame.html )`"
   ]
  },
  {
   "cell_type": "markdown",
   "metadata": {},
   "source": [
    "5. How many passengers were from each class?  Answer using the *groupby* method:"
   ]
  },
  {
   "cell_type": "markdown",
   "metadata": {},
   "source": [
    "6. How many passengers were from each class?  Answer by using selecting / indexing methods to count the members of each class:"
   ]
  },
  {
   "cell_type": "markdown",
   "metadata": {},
   "source": [
    "7. Confirm the answers to 5 & 6 match\n",
    "8. Determine who was the eldest passenger in the 3rd class?:"
   ]
  },
  {
   "cell_type": "markdown",
   "metadata": {},
   "source": [
    "9. For a number of machine learning problems it is very common to scale the numerical values between 0 and 1.  Use the agg method with lambda functions to scale the fare and age columns between 0 and 1."
   ]
  },
  {
   "cell_type": "markdown",
   "metadata": {},
   "source": [
    "10. There is one individual in the dataset without a listed Fare."
   ]
  },
  {
   "cell_type": "code",
   "execution_count": null,
   "metadata": {
    "scrolled": true
   },
   "outputs": [],
   "source": [
    "df_nan_fare = df.loc[(df.Fare.isna())]\n",
    "df_nan_fare"
   ]
  },
  {
   "cell_type": "markdown",
   "metadata": {},
   "source": [
    "Replace the NaN value of this row in the main *DataFrame* with the mean Fare for those corresponding with the same class and Embarked location using the groupby method"
   ]
  }
 ],
 "metadata": {
  "kernelspec": {
   "display_name": "Python 3",
   "language": "python",
   "name": "python3"
  },
  "language_info": {
   "codemirror_mode": {
    "name": "ipython",
    "version": 3
   },
   "file_extension": ".py",
   "mimetype": "text/x-python",
   "name": "python",
   "nbconvert_exporter": "python",
   "pygments_lexer": "ipython3",
   "version": "3.7.1"
  }
 },
 "nbformat": 4,
 "nbformat_minor": 2
}
