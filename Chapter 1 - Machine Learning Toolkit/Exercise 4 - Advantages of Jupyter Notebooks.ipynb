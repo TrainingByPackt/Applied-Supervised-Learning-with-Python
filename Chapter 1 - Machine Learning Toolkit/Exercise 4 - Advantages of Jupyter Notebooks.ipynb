{
 "cells": [
  {
   "cell_type": "markdown",
   "metadata": {},
   "source": [
    "# Exercise 4 - Advantages of Jupyter Notebooks\n",
    "\n",
    "There are a number of helpful features of Jupyter notebooks that makes them so useful, in addiiton to just executing code.  We will cover a couple of features in this exercise.\n",
    "\n",
    "Jupyter notebooks can execute commands directly within the Anaconda prompt by including an exclamation point prefix (!)."
   ]
  },
  {
   "cell_type": "code",
   "execution_count": 1,
   "metadata": {},
   "outputs": [
    {
     "name": "stdout",
     "output_type": "stream",
     "text": [
      "Activity\\ 1\\ -\\ pandas\\ Functions\\ (Instructor\\ Version).ipynb\r\n",
      "Activity\\ 1\\ -\\ pandas\\ Functions.ipynb\r\n",
      "Data\\ Quality\\ Considerations.ipynb\r\n",
      "Exercise\\ 2\\ -\\ Hello\\ World.ipynb\r\n",
      "Exercise\\ 3\\ -\\ Order\\ of\\ Execution.ipynb\r\n",
      "Exercise\\ 4\\ -\\ Advantages\\ of\\ Jupyter\\ Notebooks.ipynb\r\n",
      "Exercise\\ 5\\ -\\ Load\\ and\\ Summarize\\ the\\ Titanic\\ Dataset.ipynb\r\n",
      "Exercise\\ 6\\ -\\ Indexing\\ and\\ Selecting\\ Data.ipynb\r\n",
      "Exercise\\ 7\\ -\\ Advanced\\ Indexing\\ and\\ Selection.ipynb\r\n",
      "Exercise\\ 8\\ -\\ Splitting\\ Applying\\ and\\ Combining\\ Data\\ Sources.ipynb\r\n",
      "Exercise\\ 9\\ -\\ Lambda\\ Functions.ipynb\r\n",
      "Markdown\\ Syntax.ipynb\r\n",
      "packt.png\r\n",
      "Pandas\\ Methods.ipynb\r\n",
      "titanic.csv\r\n"
     ]
    }
   ],
   "source": [
    "!dir"
   ]
  },
  {
   "cell_type": "markdown",
   "metadata": {},
   "source": [
    "## Valid Markdown syntax\n",
    "\n",
    "You can render valid **Markdown** in Markdown cells\n",
    "\n",
    "* Just like\n",
    "* this one"
   ]
  }
 ],
 "metadata": {
  "kernelspec": {
   "display_name": "Python 3",
   "language": "python",
   "name": "python3"
  },
  "language_info": {
   "codemirror_mode": {
    "name": "ipython",
    "version": 3
   },
   "file_extension": ".py",
   "mimetype": "text/x-python",
   "name": "python",
   "nbconvert_exporter": "python",
   "pygments_lexer": "ipython3",
   "version": "3.7.1"
  }
 },
 "nbformat": 4,
 "nbformat_minor": 2
}
