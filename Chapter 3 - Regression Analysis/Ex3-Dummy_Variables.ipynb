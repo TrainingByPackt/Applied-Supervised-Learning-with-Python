{
 "cells": [
  {
   "cell_type": "markdown",
   "metadata": {},
   "source": [
    "# Exercise 3 - Dummy Variables\n",
    "\n",
    "Just because we are solving a regression problem with continuous data it does not mean we cant integrate some categorical variables into our model.  These particular categorical variables, known as *Dummy Variables* are constructed from the continuous values in our dataset.  In this example we are going to create two categorical variables, one indicating if the year is greater than 1960 and one if the year is greater than 1940.  These two years were chosen as limits for creating the dummy variables because of the shape of the 15 year moving average.  As discussed there seems to be the start of an increasing trend around 1960 and 1940 was sellected as this is the approximate end of the early plateau."
   ]
  },
  {
   "cell_type": "code",
   "execution_count": 1,
   "metadata": {},
   "outputs": [],
   "source": [
    "import numpy as np\n",
    "import pandas as pd\n",
    "import matplotlib.pyplot as plt\n",
    "\n",
    "from sklearn.linear_model import LinearRegression"
   ]
  },
  {
   "cell_type": "markdown",
   "metadata": {},
   "source": [
    "Reload the data from the previous exercise"
   ]
  },
  {
   "cell_type": "code",
   "execution_count": 2,
   "metadata": {},
   "outputs": [],
   "source": [
    "df = pd.read_csv('synth_temp.csv')\n",
    "df = df.loc[df.Year > 1901]\n",
    "df_group_year = df.groupby('Year').agg(np.mean)\n",
    "\n",
    "# Moving average\n",
    "window = 10\n",
    "rolling = df_group_year.AverageTemperature.rolling(window).mean();\n",
    "\n",
    "df_group_year['Year'] = df_group_year.index\n",
    "\n",
    "model = LinearRegression()"
   ]
  },
  {
   "cell_type": "code",
   "execution_count": 3,
   "metadata": {},
   "outputs": [
    {
     "data": {
      "text/html": [
       "<div>\n",
       "<style scoped>\n",
       "    .dataframe tbody tr th:only-of-type {\n",
       "        vertical-align: middle;\n",
       "    }\n",
       "\n",
       "    .dataframe tbody tr th {\n",
       "        vertical-align: top;\n",
       "    }\n",
       "\n",
       "    .dataframe thead th {\n",
       "        text-align: right;\n",
       "    }\n",
       "</style>\n",
       "<table border=\"1\" class=\"dataframe\">\n",
       "  <thead>\n",
       "    <tr style=\"text-align: right;\">\n",
       "      <th></th>\n",
       "      <th>AverageTemperature</th>\n",
       "      <th>Year</th>\n",
       "      <th>Gt_1960</th>\n",
       "    </tr>\n",
       "    <tr>\n",
       "      <th>Year</th>\n",
       "      <th></th>\n",
       "      <th></th>\n",
       "      <th></th>\n",
       "    </tr>\n",
       "  </thead>\n",
       "  <tbody>\n",
       "    <tr>\n",
       "      <th>1902</th>\n",
       "      <td>17.438122</td>\n",
       "      <td>1902</td>\n",
       "      <td>0</td>\n",
       "    </tr>\n",
       "    <tr>\n",
       "      <th>1903</th>\n",
       "      <td>17.375456</td>\n",
       "      <td>1903</td>\n",
       "      <td>0</td>\n",
       "    </tr>\n",
       "  </tbody>\n",
       "</table>\n",
       "</div>"
      ],
      "text/plain": [
       "      AverageTemperature  Year  Gt_1960\n",
       "Year                                   \n",
       "1902           17.438122  1902        0\n",
       "1903           17.375456  1903        0"
      ]
     },
     "execution_count": 3,
     "metadata": {},
     "output_type": "execute_result"
    }
   ],
   "source": [
    "df_group_year['Gt_1960'] = [0 if year < 1960 else 10 for year in df_group_year.Year] # Dummy Variable - greater than 1960\n",
    "df_group_year.head(n=2)"
   ]
  },
  {
   "cell_type": "code",
   "execution_count": 4,
   "metadata": {},
   "outputs": [
    {
     "data": {
      "text/html": [
       "<div>\n",
       "<style scoped>\n",
       "    .dataframe tbody tr th:only-of-type {\n",
       "        vertical-align: middle;\n",
       "    }\n",
       "\n",
       "    .dataframe tbody tr th {\n",
       "        vertical-align: top;\n",
       "    }\n",
       "\n",
       "    .dataframe thead th {\n",
       "        text-align: right;\n",
       "    }\n",
       "</style>\n",
       "<table border=\"1\" class=\"dataframe\">\n",
       "  <thead>\n",
       "    <tr style=\"text-align: right;\">\n",
       "      <th></th>\n",
       "      <th>AverageTemperature</th>\n",
       "      <th>Year</th>\n",
       "      <th>Gt_1960</th>\n",
       "      <th>Gt_1945</th>\n",
       "    </tr>\n",
       "    <tr>\n",
       "      <th>Year</th>\n",
       "      <th></th>\n",
       "      <th></th>\n",
       "      <th></th>\n",
       "      <th></th>\n",
       "    </tr>\n",
       "  </thead>\n",
       "  <tbody>\n",
       "    <tr>\n",
       "      <th>1902</th>\n",
       "      <td>17.438122</td>\n",
       "      <td>1902</td>\n",
       "      <td>0</td>\n",
       "      <td>0</td>\n",
       "    </tr>\n",
       "    <tr>\n",
       "      <th>1903</th>\n",
       "      <td>17.375456</td>\n",
       "      <td>1903</td>\n",
       "      <td>0</td>\n",
       "      <td>0</td>\n",
       "    </tr>\n",
       "  </tbody>\n",
       "</table>\n",
       "</div>"
      ],
      "text/plain": [
       "      AverageTemperature  Year  Gt_1960  Gt_1945\n",
       "Year                                            \n",
       "1902           17.438122  1902        0        0\n",
       "1903           17.375456  1903        0        0"
      ]
     },
     "execution_count": 4,
     "metadata": {},
     "output_type": "execute_result"
    }
   ],
   "source": [
    "df_group_year['Gt_1945'] = [0 if year < 1945 else 10 for year in df_group_year.Year]# Dummy Variable - greater than 1945\n",
    "df_group_year.head(n=2)"
   ]
  },
  {
   "cell_type": "code",
   "execution_count": 5,
   "metadata": {},
   "outputs": [
    {
     "data": {
      "text/html": [
       "<div>\n",
       "<style scoped>\n",
       "    .dataframe tbody tr th:only-of-type {\n",
       "        vertical-align: middle;\n",
       "    }\n",
       "\n",
       "    .dataframe tbody tr th {\n",
       "        vertical-align: top;\n",
       "    }\n",
       "\n",
       "    .dataframe thead th {\n",
       "        text-align: right;\n",
       "    }\n",
       "</style>\n",
       "<table border=\"1\" class=\"dataframe\">\n",
       "  <thead>\n",
       "    <tr style=\"text-align: right;\">\n",
       "      <th></th>\n",
       "      <th>AverageTemperature</th>\n",
       "      <th>Year</th>\n",
       "      <th>Gt_1960</th>\n",
       "      <th>Gt_1945</th>\n",
       "    </tr>\n",
       "    <tr>\n",
       "      <th>Year</th>\n",
       "      <th></th>\n",
       "      <th></th>\n",
       "      <th></th>\n",
       "      <th></th>\n",
       "    </tr>\n",
       "  </thead>\n",
       "  <tbody>\n",
       "    <tr>\n",
       "      <th>2009</th>\n",
       "      <td>19.884571</td>\n",
       "      <td>2009</td>\n",
       "      <td>10</td>\n",
       "      <td>10</td>\n",
       "    </tr>\n",
       "    <tr>\n",
       "      <th>2010</th>\n",
       "      <td>19.903760</td>\n",
       "      <td>2010</td>\n",
       "      <td>10</td>\n",
       "      <td>10</td>\n",
       "    </tr>\n",
       "  </tbody>\n",
       "</table>\n",
       "</div>"
      ],
      "text/plain": [
       "      AverageTemperature  Year  Gt_1960  Gt_1945\n",
       "Year                                            \n",
       "2009           19.884571  2009       10       10\n",
       "2010           19.903760  2010       10       10"
      ]
     },
     "execution_count": 5,
     "metadata": {},
     "output_type": "execute_result"
    }
   ],
   "source": [
    "df_group_year.tail(n=2)"
   ]
  },
  {
   "cell_type": "code",
   "execution_count": 6,
   "metadata": {},
   "outputs": [
    {
     "data": {
      "text/plain": [
       "LinearRegression(copy_X=True, fit_intercept=True, n_jobs=None,\n",
       "         normalize=False)"
      ]
     },
     "execution_count": 6,
     "metadata": {},
     "output_type": "execute_result"
    }
   ],
   "source": [
    "# Note the year values need to be provided as an N x 1 array\n",
    "model.fit(df_group_year[['Year', 'Gt_1960', 'Gt_1945']], df_group_year.AverageTemperature)"
   ]
  },
  {
   "cell_type": "code",
   "execution_count": 7,
   "metadata": {},
   "outputs": [
    {
     "name": "stdout",
     "output_type": "stream",
     "text": [
      "r2 score = 0.9128\n"
     ]
    }
   ],
   "source": [
    "# Note the year values need to be provided as an N x 1 array\n",
    "r2 = model.score(df_group_year[['Year', 'Gt_1960', 'Gt_1945']], df_group_year.AverageTemperature)\n",
    "print(f'r2 score = {r2:0.4f}')"
   ]
  },
  {
   "cell_type": "code",
   "execution_count": 8,
   "metadata": {},
   "outputs": [
    {
     "data": {
      "text/plain": [
       "array([1902.        , 1907.68421053, 1913.36842105, 1919.05263158,\n",
       "       1924.73684211, 1930.42105263, 1936.10526316, 1941.78947368,\n",
       "       1947.47368421, 1953.15789474, 1958.84210526, 1964.52631579,\n",
       "       1970.21052632, 1975.89473684, 1981.57894737, 1987.26315789,\n",
       "       1992.94736842, 1998.63157895, 2004.31578947, 2010.        ])"
      ]
     },
     "execution_count": 8,
     "metadata": {},
     "output_type": "execute_result"
    }
   ],
   "source": [
    "# Use linspace to get a range of values, in 20 yr increments\n",
    "x = np.linspace(df_group_year['Year'].min(), df_group_year['Year'].max(), 20)\n",
    "x"
   ]
  },
  {
   "cell_type": "code",
   "execution_count": 9,
   "metadata": {},
   "outputs": [
    {
     "data": {
      "text/plain": [
       "array([[1902.        ,    0.        ,    0.        ],\n",
       "       [1907.68421053,    0.        ,    0.        ],\n",
       "       [1913.36842105,    0.        ,    0.        ],\n",
       "       [1919.05263158,    0.        ,    0.        ],\n",
       "       [1924.73684211,    0.        ,    0.        ],\n",
       "       [1930.42105263,    0.        ,    0.        ],\n",
       "       [1936.10526316,    0.        ,    0.        ],\n",
       "       [1941.78947368,    0.        ,    0.        ],\n",
       "       [1947.47368421,    0.        ,   10.        ],\n",
       "       [1953.15789474,    0.        ,   10.        ],\n",
       "       [1958.84210526,    0.        ,   10.        ],\n",
       "       [1964.52631579,   10.        ,   10.        ],\n",
       "       [1970.21052632,   10.        ,   10.        ],\n",
       "       [1975.89473684,   10.        ,   10.        ],\n",
       "       [1981.57894737,   10.        ,   10.        ],\n",
       "       [1987.26315789,   10.        ,   10.        ],\n",
       "       [1992.94736842,   10.        ,   10.        ],\n",
       "       [1998.63157895,   10.        ,   10.        ],\n",
       "       [2004.31578947,   10.        ,   10.        ],\n",
       "       [2010.        ,   10.        ,   10.        ]])"
      ]
     },
     "execution_count": 9,
     "metadata": {},
     "output_type": "execute_result"
    }
   ],
   "source": [
    "trend_x = np.zeros((20, 3))\n",
    "trend_x[:,0] = x # Assign to the first column\n",
    "trend_x[:,1] = [10 if _x > 1960 else 0 for _x in x] # Assign to the second column\n",
    "trend_x[:,2] = [10 if _x > 1945 else 0 for _x in x] # Assign to the third column \n",
    "trend_x"
   ]
  },
  {
   "cell_type": "code",
   "execution_count": 10,
   "metadata": {},
   "outputs": [
    {
     "data": {
      "text/plain": [
       "array([17.06063456, 17.17806179, 17.29548901, 17.41291624, 17.53034347,\n",
       "       17.6477707 , 17.76519793, 17.88262516, 17.57196656, 17.68939379,\n",
       "       17.80682102, 18.51649321, 18.63392043, 18.75134766, 18.86877489,\n",
       "       18.98620212, 19.10362935, 19.22105658, 19.33848381, 19.45591104])"
      ]
     },
     "execution_count": 10,
     "metadata": {},
     "output_type": "execute_result"
    }
   ],
   "source": [
    "trend_y = model.predict(trend_x)\n",
    "trend_y"
   ]
  },
  {
   "cell_type": "code",
   "execution_count": 11,
   "metadata": {
    "scrolled": false
   },
   "outputs": [
    {
     "data": {
      "image/png": "[encoded data removed]",
      "text/plain": [
       "<Figure size 720x504 with 1 Axes>"
      ]
     },
     "metadata": {
      "needs_background": "light"
     },
     "output_type": "display_data"
    }
   ],
   "source": [
    "fig = plt.figure(figsize=(10, 7))\n",
    "ax = fig.add_axes([1, 1, 1, 1]);\n",
    "\n",
    "# Temp measurements\n",
    "ax.scatter(df_group_year.index, df_group_year.AverageTemperature, label='Raw Data', c='k');\n",
    "ax.plot(df_group_year.index, rolling, c='k', linestyle='--', label=f'{window} year moving average');\n",
    "ax.plot(trend_x[:,0], trend_y, c='k', label='Model: Predicted trendline')\n",
    "\n",
    "ax.set_title('Mean Air Temperature Measurements')\n",
    "ax.set_xlabel('Year')\n",
    "ax.set_ylabel('Temperature (degC)')\n",
    "ax.set_xticks(range(df_group_year.index.min(), df_group_year.index.max(), 10))\n",
    "ax.legend();"
   ]
  }
 ],
 "metadata": {
  "kernelspec": {
   "display_name": "Python 3",
   "language": "python",
   "name": "python3"
  },
  "language_info": {
   "codemirror_mode": {
    "name": "ipython",
    "version": 3
   },
   "file_extension": ".py",
   "mimetype": "text/x-python",
   "name": "python",
   "nbconvert_exporter": "python",
   "pygments_lexer": "ipython3",
   "version": "3.7.1"
  }
 },
 "nbformat": 4,
 "nbformat_minor": 2
}
