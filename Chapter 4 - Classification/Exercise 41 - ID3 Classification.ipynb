{
 "cells": [
  {
   "cell_type": "markdown",
   "metadata": {},
   "source": [
    "# Exercise 41: ID3 Classification"
   ]
  },
  {
   "cell_type": "code",
   "execution_count": 1,
   "metadata": {},
   "outputs": [],
   "source": [
    "import pandas as pd\n",
    "import numpy as np\n",
    "import matplotlib.pyplot as plt\n"
   ]
  },
  {
   "cell_type": "markdown",
   "metadata": {},
   "source": [
    "Create the dataset provided by Qiunlan in the paper [https://doi.org/10.1007/BF00116251](https://doi.org/10.1007/BF00116251)"
   ]
  },
  {
   "cell_type": "code",
   "execution_count": 2,
   "metadata": {},
   "outputs": [
    {
     "data": {
      "text/html": [
       "<div>\n",
       "<style scoped>\n",
       "    .dataframe tbody tr th:only-of-type {\n",
       "        vertical-align: middle;\n",
       "    }\n",
       "\n",
       "    .dataframe tbody tr th {\n",
       "        vertical-align: top;\n",
       "    }\n",
       "\n",
       "    .dataframe thead th {\n",
       "        text-align: right;\n",
       "    }\n",
       "</style>\n",
       "<table border=\"1\" class=\"dataframe\">\n",
       "  <thead>\n",
       "    <tr style=\"text-align: right;\">\n",
       "      <th></th>\n",
       "      <th>Outlook</th>\n",
       "      <th>Temperature</th>\n",
       "      <th>Humidity</th>\n",
       "      <th>Windy</th>\n",
       "      <th>Decision</th>\n",
       "    </tr>\n",
       "  </thead>\n",
       "  <tbody>\n",
       "    <tr>\n",
       "      <th>0</th>\n",
       "      <td>sunny</td>\n",
       "      <td>hot</td>\n",
       "      <td>high</td>\n",
       "      <td>Weak</td>\n",
       "      <td>N</td>\n",
       "    </tr>\n",
       "    <tr>\n",
       "      <th>1</th>\n",
       "      <td>sunny</td>\n",
       "      <td>hot</td>\n",
       "      <td>high</td>\n",
       "      <td>Strong</td>\n",
       "      <td>N</td>\n",
       "    </tr>\n",
       "    <tr>\n",
       "      <th>2</th>\n",
       "      <td>overcast</td>\n",
       "      <td>hot</td>\n",
       "      <td>high</td>\n",
       "      <td>Weak</td>\n",
       "      <td>P</td>\n",
       "    </tr>\n",
       "    <tr>\n",
       "      <th>3</th>\n",
       "      <td>rain</td>\n",
       "      <td>mild</td>\n",
       "      <td>high</td>\n",
       "      <td>Weak</td>\n",
       "      <td>P</td>\n",
       "    </tr>\n",
       "    <tr>\n",
       "      <th>4</th>\n",
       "      <td>rain</td>\n",
       "      <td>cool</td>\n",
       "      <td>normal</td>\n",
       "      <td>Weak</td>\n",
       "      <td>P</td>\n",
       "    </tr>\n",
       "    <tr>\n",
       "      <th>5</th>\n",
       "      <td>rain</td>\n",
       "      <td>cool</td>\n",
       "      <td>normal</td>\n",
       "      <td>Strong</td>\n",
       "      <td>N</td>\n",
       "    </tr>\n",
       "    <tr>\n",
       "      <th>6</th>\n",
       "      <td>overcast</td>\n",
       "      <td>cool</td>\n",
       "      <td>normal</td>\n",
       "      <td>Strong</td>\n",
       "      <td>P</td>\n",
       "    </tr>\n",
       "    <tr>\n",
       "      <th>7</th>\n",
       "      <td>sunny</td>\n",
       "      <td>mild</td>\n",
       "      <td>high</td>\n",
       "      <td>Weak</td>\n",
       "      <td>N</td>\n",
       "    </tr>\n",
       "    <tr>\n",
       "      <th>8</th>\n",
       "      <td>sunny</td>\n",
       "      <td>cool</td>\n",
       "      <td>normal</td>\n",
       "      <td>Weak</td>\n",
       "      <td>P</td>\n",
       "    </tr>\n",
       "    <tr>\n",
       "      <th>9</th>\n",
       "      <td>rain</td>\n",
       "      <td>mild</td>\n",
       "      <td>normal</td>\n",
       "      <td>Weak</td>\n",
       "      <td>P</td>\n",
       "    </tr>\n",
       "    <tr>\n",
       "      <th>10</th>\n",
       "      <td>sunny</td>\n",
       "      <td>mild</td>\n",
       "      <td>normal</td>\n",
       "      <td>Strong</td>\n",
       "      <td>P</td>\n",
       "    </tr>\n",
       "    <tr>\n",
       "      <th>11</th>\n",
       "      <td>overcast</td>\n",
       "      <td>mild</td>\n",
       "      <td>high</td>\n",
       "      <td>Strong</td>\n",
       "      <td>P</td>\n",
       "    </tr>\n",
       "    <tr>\n",
       "      <th>12</th>\n",
       "      <td>overcast</td>\n",
       "      <td>hot</td>\n",
       "      <td>normal</td>\n",
       "      <td>Weak</td>\n",
       "      <td>P</td>\n",
       "    </tr>\n",
       "    <tr>\n",
       "      <th>13</th>\n",
       "      <td>rain</td>\n",
       "      <td>mild</td>\n",
       "      <td>high</td>\n",
       "      <td>Strong</td>\n",
       "      <td>N</td>\n",
       "    </tr>\n",
       "  </tbody>\n",
       "</table>\n",
       "</div>"
      ],
      "text/plain": [
       "     Outlook Temperature Humidity   Windy Decision\n",
       "0      sunny         hot     high    Weak        N\n",
       "1      sunny         hot     high  Strong        N\n",
       "2   overcast         hot     high    Weak        P\n",
       "3       rain        mild     high    Weak        P\n",
       "4       rain        cool   normal    Weak        P\n",
       "5       rain        cool   normal  Strong        N\n",
       "6   overcast        cool   normal  Strong        P\n",
       "7      sunny        mild     high    Weak        N\n",
       "8      sunny        cool   normal    Weak        P\n",
       "9       rain        mild   normal    Weak        P\n",
       "10     sunny        mild   normal  Strong        P\n",
       "11  overcast        mild     high  Strong        P\n",
       "12  overcast         hot   normal    Weak        P\n",
       "13      rain        mild     high  Strong        N"
      ]
     },
     "execution_count": 2,
     "metadata": {},
     "output_type": "execute_result"
    }
   ],
   "source": [
    "df = pd.DataFrame()\n",
    "df['Outlook'] = [\n",
    "    'sunny', 'sunny', 'overcast', 'rain', 'rain', 'rain',\n",
    "    'overcast', 'sunny', 'sunny', 'rain', 'sunny',\n",
    "    'overcast', 'overcast', 'rain'\n",
    "]\n",
    "df['Temperature'] = [\n",
    "    'hot', 'hot', 'hot', 'mild', 'cool', 'cool', 'cool',\n",
    "    'mild', 'cool', 'mild', 'mild', 'mild', 'hot', 'mild',\n",
    "]\n",
    "df['Humidity'] = [\n",
    "    'high', 'high', 'high', 'high', 'normal', 'normal', 'normal', \n",
    "    'high', 'normal', 'normal', 'normal', 'high', 'normal', 'high'\n",
    "]\n",
    "df['Windy'] = [\n",
    "    'Weak', 'Strong', 'Weak', 'Weak', 'Weak', 'Strong', 'Strong', 'Weak', 'Weak', 'Weak',\n",
    "    'Strong', 'Strong', 'Weak', 'Strong'\n",
    "]\n",
    "df['Decision'] = [\n",
    "    'N', 'N', 'P', 'P', 'P', 'N', 'P', 'N', 'P', 'P',\n",
    "    'P', 'P', 'P', 'N'\n",
    "]\n",
    "df"
   ]
  },
  {
   "cell_type": "markdown",
   "metadata": {},
   "source": [
    "Compute the entropy for the decision column.  There are two possible values here 'P' and 'N':\n",
    "\n",
    "$$H(s) = -\\sum_i P_i log P_i $$"
   ]
  },
  {
   "cell_type": "code",
   "execution_count": 3,
   "metadata": {},
   "outputs": [
    {
     "name": "stdout",
     "output_type": "stream",
     "text": [
      "H(S) = 0.9403\n"
     ]
    }
   ],
   "source": [
    "# Probability of P\n",
    "p_p = len(df.loc[df.Decision == 'P']) / len(df)\n",
    "\n",
    "# Probability of N\n",
    "p_n = len(df.loc[df.Decision == 'N']) / len(df)\n",
    "\n",
    "entropy_decision = -p_n * np.log2(p_n) - p_p * np.log2(p_p)\n",
    "print(f'H(S) = {entropy_decision:0.4f}')\n",
    "\n"
   ]
  },
  {
   "cell_type": "code",
   "execution_count": 4,
   "metadata": {},
   "outputs": [],
   "source": [
    "def f_entropy_decision(data):\n",
    "    p_p = len(data.loc[data.Decision == 'P']) / len(data)\n",
    "    p_n = len(data.loc[data.Decision == 'N']) / len(data)\n",
    "    return -p_n * np.log2(p_n) - p_p * np.log2(p_p)"
   ]
  },
  {
   "cell_type": "markdown",
   "metadata": {},
   "source": [
    "Next step is to determine which attribute provides the highest information gain:\n",
    "\n",
    "$$IG(S, a) = H(S) - H(S|a) = H(S) - \\sum_{t \\in T} p(t)H(t)$$\n",
    "\n",
    "Start with the Outlook column, what is the probability of the decision given Sunny, Overcast and Rainy conditions?"
   ]
  },
  {
   "cell_type": "code",
   "execution_count": 5,
   "metadata": {},
   "outputs": [
    {
     "name": "stdout",
     "output_type": "stream",
     "text": [
      "p(Decision=P|Outlook=overcast) = 4/4\n",
      "p(Decision=N|Outlook=overcast) = 0/4\n",
      "p(Decision|Outlook=overcast) = 4/14\n",
      "Entropy(Decision|Outlook=overcast) = -4/4.log2(4/4) - 0/4.log2(0/4)\n",
      "\n",
      "p(Decision=P|Outlook=rain) = 3/5\n",
      "p(Decision=N|Outlook=rain) = 2/5\n",
      "p(Decision|Outlook=rain) = 5/14\n",
      "Entropy(Decision|Outlook=rain) = -3/5.log2(3/5) - 2/5.log2(2/5)\n",
      "\n",
      "p(Decision=P|Outlook=sunny) = 2/5\n",
      "p(Decision=N|Outlook=sunny) = 3/5\n",
      "p(Decision|Outlook=sunny) = 5/14\n",
      "Entropy(Decision|Outlook=sunny) = -2/5.log2(2/5) - 3/5.log2(3/5)\n",
      "\n",
      "Gain(Decision, Outlook) = Entropy(Decision) - p(Decision|Outlook=overcast).Entropy(Decision|Outlook=overcast) - p(Decision|Outlook=rain).Entropy(Decision|Outlook=rain) - p(Decision|Outlook=sunny).Entropy(Decision|Outlook=sunny)\n",
      "Gain(Decision, Outlook) = 0.2467\n"
     ]
    }
   ],
   "source": [
    "IG_decision_Outlook = entropy_decision # H(S)\n",
    "\n",
    "# Create a string to print out the overall equation\n",
    "overall_eqn = 'Gain(Decision, Outlook) = Entropy(Decision)' \n",
    "\n",
    "# Iterate through the values for outlook and compute the probabilities\n",
    "# and entropy values\n",
    "for name, Outlook in df.groupby('Outlook'):\n",
    "    num_p = len(Outlook.loc[Outlook.Decision == 'P'])\n",
    "    num_n = len(Outlook.loc[Outlook.Decision != 'P'])\n",
    "    num_Outlook = len(Outlook)\n",
    "    print(f'p(Decision=P|Outlook={name}) = {num_p}/{num_Outlook}')\n",
    "    print(f'p(Decision=N|Outlook={name}) = {num_n}/{num_Outlook}')    \n",
    "    print(f'p(Decision|Outlook={name}) = {num_Outlook}/{len(df)}')\n",
    "    print(f'Entropy(Decision|Outlook={name}) = '\\\n",
    "         f'-{num_p}/{num_Outlook}.log2({num_p}/{num_Outlook}) - '\\\n",
    "         f'{num_n}/{num_Outlook}.log2({num_n}/{num_Outlook})')\n",
    "    \n",
    "    entropy_decision_outlook = 0\n",
    "    \n",
    "    # Cannot compute log of 0 so add checks\n",
    "    if num_p != 0:\n",
    "        entropy_decision_outlook -= (num_p / num_Outlook) \\\n",
    "            * np.log2(num_p / num_Outlook)\n",
    "     \n",
    "    # Cannot compute log of 0 so add checks\n",
    "    if num_n != 0:\n",
    "        entropy_decision_outlook -= (num_n / num_Outlook) \\\n",
    "            * np.log2(num_n / num_Outlook)\n",
    "    \n",
    "    IG_decision_Outlook -= (num_Outlook / len(df)) * entropy_decision_outlook\n",
    "    print()\n",
    "    overall_eqn += f' - p(Decision|Outlook={name}).'\n",
    "    overall_eqn += f'Entropy(Decision|Outlook={name})'\n",
    "print(overall_eqn)\n",
    "print(f'Gain(Decision, Outlook) = {IG_decision_Outlook:0.4f}')"
   ]
  },
  {
   "cell_type": "markdown",
   "metadata": {},
   "source": [
    "$ G(Decision, Outlook) = H(Decision) - p(Decision|Outlook=overcast)H(Decision|Outlook=overcast) - \n",
    "p(Decision|Outlook=sunny)H(Decision|Outlook=sunny) - \n",
    "p(Decision|Outlook=rain)H(Decision|Outlook=rain)$"
   ]
  },
  {
   "cell_type": "code",
   "execution_count": 6,
   "metadata": {},
   "outputs": [],
   "source": [
    "def IG(data, column, ent_decision=entropy_decision):\n",
    "    IG_decision = ent_decision\n",
    "    for name, temp in data.groupby(column):\n",
    "        p_p = len(temp.loc[temp.Decision == 'P']) / len(temp)\n",
    "        p_n = len(temp.loc[temp.Decision != 'P']) / len(temp)\n",
    "\n",
    "        entropy_decision = 0\n",
    "\n",
    "        if p_p != 0:\n",
    "            entropy_decision -= (p_p) * np.log2(p_p)\n",
    "\n",
    "        if p_n != 0:\n",
    "            entropy_decision -= (p_n) * np.log2(p_n)\n",
    "\n",
    "        IG_decision -= (len(temp) / len(df)) * entropy_decision\n",
    "    return IG_decision"
   ]
  },
  {
   "cell_type": "markdown",
   "metadata": {},
   "source": [
    "Compute the information gain for each of the columns"
   ]
  },
  {
   "cell_type": "code",
   "execution_count": 7,
   "metadata": {},
   "outputs": [
    {
     "name": "stdout",
     "output_type": "stream",
     "text": [
      "Gain(Decision, Outlook) = 0.2467\n",
      "Gain(Decision, Temperature) = 0.0292\n",
      "Gain(Decision, Humidity) = 0.1518\n",
      "Gain(Decision, Windy) = 0.0481\n"
     ]
    }
   ],
   "source": [
    "for col in df.columns[:-1]:\n",
    "    print(f'Gain(Decision, {col}) = {IG(df, col):0.4f}')"
   ]
  },
  {
   "cell_type": "markdown",
   "metadata": {},
   "source": [
    "We will choose the largest information gain value for the split, which is Outlook.  So what happens if we split on this column?  Let's look at the data"
   ]
  },
  {
   "cell_type": "code",
   "execution_count": 8,
   "metadata": {},
   "outputs": [
    {
     "name": "stdout",
     "output_type": "stream",
     "text": [
      "---------------\n",
      "overcast\n",
      "---------------\n",
      "     Outlook Temperature Humidity   Windy Decision\n",
      "2   overcast         hot     high    Weak        P\n",
      "6   overcast        cool   normal  Strong        P\n",
      "11  overcast        mild     high  Strong        P\n",
      "12  overcast         hot   normal    Weak        P\n",
      "---------------\n",
      "---------------\n",
      "rain\n",
      "---------------\n",
      "   Outlook Temperature Humidity   Windy Decision\n",
      "3     rain        mild     high    Weak        P\n",
      "4     rain        cool   normal    Weak        P\n",
      "5     rain        cool   normal  Strong        N\n",
      "9     rain        mild   normal    Weak        P\n",
      "13    rain        mild     high  Strong        N\n",
      "---------------\n",
      "---------------\n",
      "sunny\n",
      "---------------\n",
      "   Outlook Temperature Humidity   Windy Decision\n",
      "0    sunny         hot     high    Weak        N\n",
      "1    sunny         hot     high  Strong        N\n",
      "7    sunny        mild     high    Weak        N\n",
      "8    sunny        cool   normal    Weak        P\n",
      "10   sunny        mild   normal  Strong        P\n",
      "---------------\n"
     ]
    }
   ],
   "source": [
    "for name, temp in df.groupby('Outlook'):\n",
    "    print('-' * 15)\n",
    "    print(name)\n",
    "    print('-' * 15)\n",
    "    print(temp)\n",
    "    print('-' * 15)"
   ]
  },
  {
   "cell_type": "markdown",
   "metadata": {},
   "source": [
    "Remove the overcast information as they providing a terminating leaf"
   ]
  },
  {
   "cell_type": "code",
   "execution_count": 9,
   "metadata": {},
   "outputs": [
    {
     "data": {
      "text/html": [
       "<div>\n",
       "<style scoped>\n",
       "    .dataframe tbody tr th:only-of-type {\n",
       "        vertical-align: middle;\n",
       "    }\n",
       "\n",
       "    .dataframe tbody tr th {\n",
       "        vertical-align: top;\n",
       "    }\n",
       "\n",
       "    .dataframe thead th {\n",
       "        text-align: right;\n",
       "    }\n",
       "</style>\n",
       "<table border=\"1\" class=\"dataframe\">\n",
       "  <thead>\n",
       "    <tr style=\"text-align: right;\">\n",
       "      <th></th>\n",
       "      <th>Outlook</th>\n",
       "      <th>Temperature</th>\n",
       "      <th>Humidity</th>\n",
       "      <th>Windy</th>\n",
       "      <th>Decision</th>\n",
       "    </tr>\n",
       "  </thead>\n",
       "  <tbody>\n",
       "    <tr>\n",
       "      <th>0</th>\n",
       "      <td>sunny</td>\n",
       "      <td>hot</td>\n",
       "      <td>high</td>\n",
       "      <td>Weak</td>\n",
       "      <td>N</td>\n",
       "    </tr>\n",
       "    <tr>\n",
       "      <th>1</th>\n",
       "      <td>sunny</td>\n",
       "      <td>hot</td>\n",
       "      <td>high</td>\n",
       "      <td>Strong</td>\n",
       "      <td>N</td>\n",
       "    </tr>\n",
       "    <tr>\n",
       "      <th>3</th>\n",
       "      <td>rain</td>\n",
       "      <td>mild</td>\n",
       "      <td>high</td>\n",
       "      <td>Weak</td>\n",
       "      <td>P</td>\n",
       "    </tr>\n",
       "    <tr>\n",
       "      <th>4</th>\n",
       "      <td>rain</td>\n",
       "      <td>cool</td>\n",
       "      <td>normal</td>\n",
       "      <td>Weak</td>\n",
       "      <td>P</td>\n",
       "    </tr>\n",
       "    <tr>\n",
       "      <th>5</th>\n",
       "      <td>rain</td>\n",
       "      <td>cool</td>\n",
       "      <td>normal</td>\n",
       "      <td>Strong</td>\n",
       "      <td>N</td>\n",
       "    </tr>\n",
       "    <tr>\n",
       "      <th>7</th>\n",
       "      <td>sunny</td>\n",
       "      <td>mild</td>\n",
       "      <td>high</td>\n",
       "      <td>Weak</td>\n",
       "      <td>N</td>\n",
       "    </tr>\n",
       "    <tr>\n",
       "      <th>8</th>\n",
       "      <td>sunny</td>\n",
       "      <td>cool</td>\n",
       "      <td>normal</td>\n",
       "      <td>Weak</td>\n",
       "      <td>P</td>\n",
       "    </tr>\n",
       "    <tr>\n",
       "      <th>9</th>\n",
       "      <td>rain</td>\n",
       "      <td>mild</td>\n",
       "      <td>normal</td>\n",
       "      <td>Weak</td>\n",
       "      <td>P</td>\n",
       "    </tr>\n",
       "    <tr>\n",
       "      <th>10</th>\n",
       "      <td>sunny</td>\n",
       "      <td>mild</td>\n",
       "      <td>normal</td>\n",
       "      <td>Strong</td>\n",
       "      <td>P</td>\n",
       "    </tr>\n",
       "    <tr>\n",
       "      <th>13</th>\n",
       "      <td>rain</td>\n",
       "      <td>mild</td>\n",
       "      <td>high</td>\n",
       "      <td>Strong</td>\n",
       "      <td>N</td>\n",
       "    </tr>\n",
       "  </tbody>\n",
       "</table>\n",
       "</div>"
      ],
      "text/plain": [
       "   Outlook Temperature Humidity   Windy Decision\n",
       "0    sunny         hot     high    Weak        N\n",
       "1    sunny         hot     high  Strong        N\n",
       "3     rain        mild     high    Weak        P\n",
       "4     rain        cool   normal    Weak        P\n",
       "5     rain        cool   normal  Strong        N\n",
       "7    sunny        mild     high    Weak        N\n",
       "8    sunny        cool   normal    Weak        P\n",
       "9     rain        mild   normal    Weak        P\n",
       "10   sunny        mild   normal  Strong        P\n",
       "13    rain        mild     high  Strong        N"
      ]
     },
     "execution_count": 9,
     "metadata": {},
     "output_type": "execute_result"
    }
   ],
   "source": [
    "df_next = df.loc[df.Outlook != 'overcast']\n",
    "df_next"
   ]
  },
  {
   "cell_type": "markdown",
   "metadata": {},
   "source": [
    "So in terms of outlook we have sunny and rain samples remaining.  We will turn our attention to the sunny samples next."
   ]
  },
  {
   "cell_type": "code",
   "execution_count": 10,
   "metadata": {},
   "outputs": [],
   "source": [
    "df_sunny = df_next.loc[df_next.Outlook == 'sunny']"
   ]
  },
  {
   "cell_type": "markdown",
   "metadata": {},
   "source": [
    "Calculate the entropy to the sunny samples"
   ]
  },
  {
   "cell_type": "code",
   "execution_count": 11,
   "metadata": {},
   "outputs": [
    {
     "data": {
      "text/plain": [
       "0.9709505944546686"
      ]
     },
     "execution_count": 11,
     "metadata": {},
     "output_type": "execute_result"
    }
   ],
   "source": [
    "entropy_decision = f_entropy_decision(df_sunny)\n",
    "entropy_decision"
   ]
  },
  {
   "cell_type": "markdown",
   "metadata": {},
   "source": [
    "Repeat the gain calculations for the remaining columns"
   ]
  },
  {
   "cell_type": "code",
   "execution_count": 12,
   "metadata": {},
   "outputs": [
    {
     "name": "stdout",
     "output_type": "stream",
     "text": [
      "Gain(Decision, Temperature) = 0.8281\n",
      "Gain(Decision, Humidity) = 0.9710\n",
      "Gain(Decision, Windy) = 0.6313\n"
     ]
    }
   ],
   "source": [
    "for col in df_sunny.columns[1:-1]:\n",
    "    print(f'Gain(Decision, {col}) = {IG(df_sunny, col, entropy_decision):0.4f}')"
   ]
  },
  {
   "cell_type": "markdown",
   "metadata": {},
   "source": [
    "Again select the largest Gain, which in this case is Humidity"
   ]
  },
  {
   "cell_type": "code",
   "execution_count": 13,
   "metadata": {},
   "outputs": [
    {
     "name": "stdout",
     "output_type": "stream",
     "text": [
      "---------------\n",
      "high\n",
      "---------------\n",
      "  Outlook Temperature Humidity   Windy Decision\n",
      "0   sunny         hot     high    Weak        N\n",
      "1   sunny         hot     high  Strong        N\n",
      "7   sunny        mild     high    Weak        N\n",
      "---------------\n",
      "---------------\n",
      "normal\n",
      "---------------\n",
      "   Outlook Temperature Humidity   Windy Decision\n",
      "8    sunny        cool   normal    Weak        P\n",
      "10   sunny        mild   normal  Strong        P\n",
      "---------------\n"
     ]
    }
   ],
   "source": [
    "for name, temp in df_sunny.groupby('Humidity'):\n",
    "    print('-' * 15)\n",
    "    print(name)\n",
    "    print('-' * 15)\n",
    "    print(temp)\n",
    "    print('-' * 15)"
   ]
  },
  {
   "cell_type": "markdown",
   "metadata": {},
   "source": [
    "Select the rain information and re-compute the entropy:"
   ]
  },
  {
   "cell_type": "code",
   "execution_count": 14,
   "metadata": {},
   "outputs": [
    {
     "data": {
      "text/plain": [
       "0.9709505944546686"
      ]
     },
     "execution_count": 14,
     "metadata": {},
     "output_type": "execute_result"
    }
   ],
   "source": [
    "df_rain = df_next.loc[df_next.Outlook == 'rain']\n",
    "entropy_decision = f_entropy_decision(df_rain)\n",
    "entropy_decision"
   ]
  },
  {
   "cell_type": "code",
   "execution_count": 15,
   "metadata": {},
   "outputs": [
    {
     "name": "stdout",
     "output_type": "stream",
     "text": [
      "Gain(Decision, Temperature) = 0.6313\n",
      "Gain(Decision, Humidity) = 0.6313\n",
      "Gain(Decision, Windy) = 0.9710\n"
     ]
    }
   ],
   "source": [
    "for col in df_rain.columns[1:-1]:\n",
    "    print(f'Gain(Decision, {col}) = {IG(df_rain, col, entropy_decision):0.4f}')"
   ]
  },
  {
   "cell_type": "markdown",
   "metadata": {},
   "source": [
    "Selecting the largest gain value indicates splitting on the Windy values:"
   ]
  },
  {
   "cell_type": "code",
   "execution_count": 16,
   "metadata": {},
   "outputs": [
    {
     "name": "stdout",
     "output_type": "stream",
     "text": [
      "---------------\n",
      "Strong\n",
      "---------------\n",
      "   Outlook Temperature Humidity   Windy Decision\n",
      "5     rain        cool   normal  Strong        N\n",
      "13    rain        mild     high  Strong        N\n",
      "---------------\n",
      "---------------\n",
      "Weak\n",
      "---------------\n",
      "  Outlook Temperature Humidity Windy Decision\n",
      "3    rain        mild     high  Weak        P\n",
      "4    rain        cool   normal  Weak        P\n",
      "9    rain        mild   normal  Weak        P\n",
      "---------------\n"
     ]
    }
   ],
   "source": [
    "for name, temp in df_rain.groupby('Windy'):\n",
    "    print('-' * 15)\n",
    "    print(name)\n",
    "    print('-' * 15)\n",
    "    print(temp)\n",
    "    print('-' * 15)"
   ]
  }
 ],
 "metadata": {
  "kernelspec": {
   "display_name": "Python 3",
   "language": "python",
   "name": "python3"
  },
  "language_info": {
   "codemirror_mode": {
    "name": "ipython",
    "version": 3
   },
   "file_extension": ".py",
   "mimetype": "text/x-python",
   "name": "python",
   "nbconvert_exporter": "python",
   "pygments_lexer": "ipython3",
   "version": "3.6.5"
  }
 },
 "nbformat": 4,
 "nbformat_minor": 2
}
